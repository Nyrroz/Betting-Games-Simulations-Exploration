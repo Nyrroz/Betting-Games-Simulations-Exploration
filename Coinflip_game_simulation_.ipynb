{
  "nbformat": 4,
  "nbformat_minor": 0,
  "metadata": {
    "colab": {
      "name": "Coinflip game simulation .ipynb",
      "provenance": [],
      "collapsed_sections": [],
      "authorship_tag": "ABX9TyNxi/sIOSqG9R/Cbz3LLA0E",
      "include_colab_link": true
    },
    "kernelspec": {
      "name": "python3",
      "display_name": "Python 3"
    },
    "language_info": {
      "name": "python"
    }
  },
  "cells": [
    {
      "cell_type": "markdown",
      "metadata": {
        "id": "view-in-github",
        "colab_type": "text"
      },
      "source": [
        "<a href=\"https://colab.research.google.com/github/Nyrroz/Betting-Games-Simulations-Exploration/blob/main/Coinflip_game_simulation_.ipynb\" target=\"_parent\"><img src=\"https://colab.research.google.com/assets/colab-badge.svg\" alt=\"Open In Colab\"/></a>"
      ]
    },
    {
      "cell_type": "markdown",
      "metadata": {
        "id": "GF_xiXauyIWh"
      },
      "source": [
        "# Coinflip Simulation"
      ]
    },
    {
      "cell_type": "code",
      "metadata": {
        "id": "Y1MGRXZJJVvY"
      },
      "source": [
        "import random, time\n",
        "from matplotlib import pyplot as plt"
      ],
      "execution_count": null,
      "outputs": []
    },
    {
      "cell_type": "markdown",
      "metadata": {
        "id": "J6gQorWVxnPD"
      },
      "source": [
        "Pretty basic and simple balance object:"
      ]
    },
    {
      "cell_type": "code",
      "metadata": {
        "id": "jK-sS1L5LbNu"
      },
      "source": [
        "class Balance:\n",
        "    def __init__(self):\n",
        "        self.balance = 0.0\n",
        "        self.currency = 'EUR'\n",
        "    def showBalance(self):\n",
        "        print(str(self.balance) + ' ' + self.currency)   \n",
        "    def deposit(self, amount):\n",
        "        self.balance += amount\n",
        "    def withdraw(self, amount):\n",
        "        self.balance -= amount\n",
        "        "
      ],
      "execution_count": null,
      "outputs": []
    },
    {
      "cell_type": "markdown",
      "metadata": {
        "id": "y7LWni7IQD-W"
      },
      "source": [
        "Game Rules: (to modify)\n",
        "- doubling the bet on win\n",
        "- 50% chance (Heads or Tails)\n",
        "\n",
        "Simulation Rules: (to modify)\n",
        "- Initial balance is 1000 EUR\n",
        "- Apply Martingale's strategy "
      ]
    },
    {
      "cell_type": "code",
      "metadata": {
        "colab": {
          "base_uri": "https://localhost:8080/"
        },
        "id": "j56eQ7FNRX1b",
        "outputId": "b9815c20-6a5c-46d2-99c5-c816a0c56100"
      },
      "source": [
        "b = Balance()\n",
        "b.deposit(1000)\n",
        "b.showBalance()"
      ],
      "execution_count": null,
      "outputs": [
        {
          "output_type": "stream",
          "text": [
            "1000.0 EUR\n"
          ],
          "name": "stdout"
        }
      ]
    },
    {
      "cell_type": "markdown",
      "metadata": {
        "id": "M3TeB7F5iIL-"
      },
      "source": [
        "Martingale's strategy simulation:"
      ]
    },
    {
      "cell_type": "code",
      "metadata": {
        "colab": {
          "base_uri": "https://localhost:8080/"
        },
        "id": "WMshPa4FPmkf",
        "outputId": "841698c1-81a8-4be7-92fb-1f482a63ac4f"
      },
      "source": [
        "bet_logs = []\n",
        "betAmount_logs = []\n",
        "balance_logs = []\n",
        "result_logs = []\n",
        "wins = 0\n",
        "\n",
        "#Inital bet Amount setup\n",
        "initialbetAmount = 100\n",
        "betAmount = initialbetAmount\n",
        "\n",
        "while b.balance > 0:\n",
        "    #Set up\n",
        "    bet = 'Tails'\n",
        "    b.balance -= betAmount\n",
        "    \n",
        "    #Applying strategy\n",
        "    if len(result_logs) > 0:\n",
        "        if result_logs[len(result_logs)-1] != bet: #Checking for loss\n",
        "            betAmount *= 2\n",
        "        else:\n",
        "            betAmount = initialbetAmount\n",
        "\n",
        "\n",
        "\n",
        "\n",
        "    #Gen\n",
        "    gen = random.choice(['Heads', 'Tails'])\n",
        "\n",
        "    #Result\n",
        "    if gen == bet:\n",
        "        b.balance += betAmount * 2\n",
        "        wins += 1\n",
        "\n",
        "        \n",
        "    result_logs.append(gen)\n",
        "    bet_logs.append(bet)\n",
        "    betAmount_logs.append(betAmount)\n",
        "    \n",
        "    if b.balance < 0:\n",
        "        b.balance = 0.0\n",
        "    balance_logs.append(b.balance)\n",
        "\n",
        "\n",
        "\n",
        "gamesPlayed = len(bet_logs)\n",
        "\n",
        "print(gamesPlayed)\n",
        "print(balance_logs)\n",
        "print(result_logs)\n",
        "print(betAmount_logs)\n",
        "    \n",
        "    \n",
        "\n",
        "\n",
        "    "
      ],
      "execution_count": null,
      "outputs": [
        {
          "output_type": "stream",
          "text": [
            "34\n",
            "[900.0, 800.0, 600.0, 1800.0, 1200.0, 1100.0, 1400.0, 1200.0, 1500.0, 1500.0, 1600.0, 1500.0, 1800.0, 1800.0, 1900.0, 1800.0, 1700.0, 2300.0, 2100.0, 2000.0, 1900.0, 1700.0, 2900.0, 2300.0, 2400.0, 2500.0, 2600.0, 2700.0, 2600.0, 2500.0, 2300.0, 1900.0, 1100.0, 0.0]\n",
            "['Heads', 'Heads', 'Heads', 'Tails', 'Tails', 'Heads', 'Tails', 'Heads', 'Tails', 'Tails', 'Tails', 'Heads', 'Tails', 'Tails', 'Tails', 'Heads', 'Heads', 'Tails', 'Tails', 'Heads', 'Heads', 'Heads', 'Tails', 'Tails', 'Tails', 'Tails', 'Tails', 'Tails', 'Heads', 'Heads', 'Heads', 'Heads', 'Heads', 'Heads']\n",
            "[100, 200, 400, 800, 100, 100, 200, 100, 200, 100, 100, 100, 200, 100, 100, 100, 200, 400, 100, 100, 200, 400, 800, 100, 100, 100, 100, 100, 100, 200, 400, 800, 1600, 3200]\n"
          ],
          "name": "stdout"
        }
      ]
    },
    {
      "cell_type": "markdown",
      "metadata": {
        "id": "rwWcs-g4eh4m"
      },
      "source": [
        "#Visualizing the data"
      ]
    },
    {
      "cell_type": "code",
      "metadata": {
        "id": "8R5qQLg1ew0m"
      },
      "source": [
        "#x-axis set up\n",
        "x = range(1, gamesPlayed+1)"
      ],
      "execution_count": null,
      "outputs": []
    },
    {
      "cell_type": "markdown",
      "metadata": {
        "id": "RSa92qHlen3Z"
      },
      "source": [
        "Numerical data:\n"
      ]
    },
    {
      "cell_type": "code",
      "metadata": {
        "colab": {
          "base_uri": "https://localhost:8080/",
          "height": 311
        },
        "id": "zwdK1OmAUSKg",
        "outputId": "6201654e-b58a-4fae-a216-050467b0bcd7"
      },
      "source": [
        "#Balance & bet Amount plot\n",
        "plt.plot(x, balance_logs, 'g')\n",
        "plt.plot(x, betAmount_logs, 'b')\n",
        "plt.suptitle(\"Balance & Bet Amount Evolution\")\n",
        "plt.legend([\"Balance\", \"Bet Amount\"])"
      ],
      "execution_count": null,
      "outputs": [
        {
          "output_type": "execute_result",
          "data": {
            "text/plain": [
              "<matplotlib.legend.Legend at 0x7fd50c0d2fd0>"
            ]
          },
          "metadata": {
            "tags": []
          },
          "execution_count": 466
        },
        {
          "output_type": "display_data",
          "data": {
            "image/png": "[encoded data removed]",
            "text/plain": [
              "<Figure size 432x288 with 1 Axes>"
            ]
          },
          "metadata": {
            "tags": [],
            "needs_background": "light"
          }
        }
      ]
    },
    {
      "cell_type": "markdown",
      "metadata": {
        "id": "pJKDxkcFezM_"
      },
      "source": [
        "Categorical data:"
      ]
    },
    {
      "cell_type": "code",
      "metadata": {
        "colab": {
          "base_uri": "https://localhost:8080/",
          "height": 201
        },
        "id": "_71OEXfRRfw0",
        "outputId": "77a63b9c-7ed7-4a41-ef60-d3121c7da1e5"
      },
      "source": [
        "#Results Plot\n",
        "from matplotlib.pyplot import figure\n",
        "figure(figsize=(26, 3), dpi=100) #Adjusting size\n",
        "plt.plot(x, result_logs, 'b-')\n",
        "plt.suptitle(\"Results\")\n"
      ],
      "execution_count": null,
      "outputs": [
        {
          "output_type": "execute_result",
          "data": {
            "text/plain": [
              "Text(0.5, 0.98, 'Results')"
            ]
          },
          "metadata": {
            "tags": []
          },
          "execution_count": 467
        },
        {
          "output_type": "display_data",
          "data": {
            "image/png": "[encoded data removed]",
            "text/plain": [
              "<Figure size 2600x300 with 1 Axes>"
            ]
          },
          "metadata": {
            "tags": [],
            "needs_background": "light"
          }
        }
      ]
    },
    {
      "cell_type": "code",
      "metadata": {
        "colab": {
          "base_uri": "https://localhost:8080/",
          "height": 202
        },
        "id": "GVcg_0DFeFPm",
        "outputId": "59d8bc03-3d32-48d6-d6d9-b7b0886ebfbf"
      },
      "source": [
        "#Bet Plot\n",
        "from matplotlib.pyplot import figure\n",
        "figure(figsize=(26, 3), dpi=100) #Adjusting size\n",
        "plt.plot(x, bet_logs, 'r-')\n",
        "plt.suptitle(\"Bets\")"
      ],
      "execution_count": null,
      "outputs": [
        {
          "output_type": "execute_result",
          "data": {
            "text/plain": [
              "Text(0.5, 0.98, 'Bets')"
            ]
          },
          "metadata": {
            "tags": []
          },
          "execution_count": 468
        },
        {
          "output_type": "display_data",
          "data": {
            "image/png": "[encoded data removed]",
            "text/plain": [
              "<Figure size 2600x300 with 1 Axes>"
            ]
          },
          "metadata": {
            "tags": [],
            "needs_background": "light"
          }
        }
      ]
    },
    {
      "cell_type": "code",
      "metadata": {
        "colab": {
          "base_uri": "https://localhost:8080/",
          "height": 311
        },
        "id": "TJ5brK4hpFBw",
        "outputId": "ad78d0eb-4de1-4e17-dee2-ba55a5e11f1f"
      },
      "source": [
        "plt.bar(str(round((wins / len(bet_logs))*100)) + \"%\" + \" Wins\", wins, color='green')\n",
        "plt.bar(str(100-(round((wins / len(bet_logs))*100))) + \"%\" + \" Losses\", len(bet_logs) - wins, color = 'red')\n",
        "plt.suptitle(\"Simulation Overrall\\nTotal bets: \" + str(len(bet_logs) - wins))"
      ],
      "execution_count": null,
      "outputs": [
        {
          "output_type": "execute_result",
          "data": {
            "text/plain": [
              "Text(0.5, 0.98, 'Simulation Overrall\\nTotal bets: 17')"
            ]
          },
          "metadata": {
            "tags": []
          },
          "execution_count": 469
        },
        {
          "output_type": "display_data",
          "data": {
            "image/png": "[encoded data removed]",
            "text/plain": [
              "<Figure size 432x288 with 1 Axes>"
            ]
          },
          "metadata": {
            "tags": [],
            "needs_background": "light"
          }
        }
      ]
    },
    {
      "cell_type": "markdown",
      "metadata": {
        "id": "GAt_Xnu4lox4"
      },
      "source": [
        "More:"
      ]
    },
    {
      "cell_type": "code",
      "metadata": {
        "colab": {
          "base_uri": "https://localhost:8080/"
        },
        "id": "f8zDmyFitIhT",
        "outputId": "3d640eb6-8912-4c83-937e-1ce90d8c41fe"
      },
      "source": [
        "#Balance\n",
        "print(\"\\n BALANCE\")\n",
        "print(\"Min:\", min(balance_logs))\n",
        "print(\"Max:\", max(balance_logs))\n",
        "#Bet\n",
        "print(\"\\n BET\")\n",
        "print(\"Min:\", min(betAmount_logs))\n",
        "print(\"Max:\", max(betAmount_logs))\n",
        "#Game\n",
        "print(\"\\n GAME\")\n",
        "print(\"Bets:\", len(bet_logs))\n",
        "print(\"Wins:\", wins)\n",
        "print(\"Losses:\", len(bet_logs) - wins)"
      ],
      "execution_count": null,
      "outputs": [
        {
          "output_type": "stream",
          "text": [
            "\n",
            " BALANCE\n",
            "Min: 0.0\n",
            "Max: 2900.0\n",
            "\n",
            " BET\n",
            "Min: 100\n",
            "Max: 3200\n",
            "\n",
            " GAME\n",
            "Bets: 34\n",
            "Wins: 17\n",
            "Losses: 17\n"
          ],
          "name": "stdout"
        }
      ]
    }
  ]
}